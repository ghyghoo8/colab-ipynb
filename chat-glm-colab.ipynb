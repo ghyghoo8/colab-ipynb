{
 "cells": [
  {
   "attachments": {},
   "cell_type": "markdown",
   "metadata": {},
   "source": [
    "[![Open In Colab](https://colab.research.google.com/assets/colab-badge.svg)](https://colab.research.google.com/github/ghyghoo8/colab-ipynb/blob/main/chat-glm-colab.ipynb)"
   ]
  },
  {
   "cell_type": "code",
   "execution_count": null,
   "metadata": {},
   "outputs": [],
   "source": [
    "%cd /content\n",
    "\n",
    "%env TF_CPP_MIN_LOG_LEVEL=1\n",
    "\n",
    "!apt -y update -qq\n",
    "!wget http://launchpadlibrarian.net/367274644/libgoogle-perftools-dev_2.5-2.2ubuntu3_amd64.deb\n",
    "!wget https://launchpad.net/ubuntu/+source/google-perftools/2.5-2.2ubuntu3/+build/14795286/+files/google-perftools_2.5-2.2ubuntu3_all.deb\n",
    "!wget https://launchpad.net/ubuntu/+source/google-perftools/2.5-2.2ubuntu3/+build/14795286/+files/libtcmalloc-minimal4_2.5-2.2ubuntu3_amd64.deb\n",
    "!wget https://launchpad.net/ubuntu/+source/google-perftools/2.5-2.2ubuntu3/+build/14795286/+files/libgoogle-perftools4_2.5-2.2ubuntu3_amd64.deb\n",
    "!apt install -qq libunwind8-dev\n",
    "!dpkg -i *.deb\n",
    "%env LD_PRELOAD=libtcmalloc.so\n",
    "!rm *.deb\n",
    "\n",
    "# pytorch 下载\n",
    "!apt -y install -qq aria2\n",
    "!pip install -q torch==1.13.1+cu116 torchvision==0.14.1+cu116 torchaudio==0.13.1 torchtext==0.14.1 torchdata==0.5.1 --extra-index-url https://download.pytorch.org/whl/cu116 -U\n",
    "!pip install -q xformers==0.0.16 triton==2.0.0 -U\n",
    "\n",
    "# 模型下载\n",
    "!git clone https://huggingface.co/THUDM/chatglm-6b  /content/ChatGLM-6B\n",
    "%cd /content/ChatGLM-6B\n",
    "# !pip install -r requirements.txt\n",
    "\n",
    "# 下载 webui\n",
    "!git clone https://github.com/Akegarasu/ChatGLM-webui  /content/ChatGLM-webui\n",
    "%cd /content/ChatGLM-webui\n",
    "!pip install --upgrade -r requirements.txt\n",
    "!pip install gradio\n",
    "\n",
    "!python webui.py --listen --model-path /content/ChatGLM-6B"
   ]
  }
 ],
 "metadata": {
  "language_info": {
   "name": "python"
  },
  "orig_nbformat": 4
 },
 "nbformat": 4,
 "nbformat_minor": 2
}

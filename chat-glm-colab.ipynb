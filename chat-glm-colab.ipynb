!git clone https://github.com/THUDM/ChatGLM-6B
%cd ChatGLM-6B
!pip install -r requirements.txt

%cd ..
!git clone https://github.com/Akegarasu/ChatGLM-webui
cd ChatGLM-webui
!pip install -r requirements.txt
